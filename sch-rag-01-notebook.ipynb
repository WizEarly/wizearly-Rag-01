{
 "cells": [
  {
   "cell_type": "code",
   "execution_count": 1,
   "id": "a6c9deaf-89ff-4da7-a80a-81db9830fc32",
   "metadata": {},
   "outputs": [],
   "source": [
    "from langchain_together import ChatTogether\n",
    "from dotenv import load_dotenv, find_dotenv\n",
    "from langgraph.graph import StateGraph, START, END\n",
    "from langgraph.checkpoint.memory import MemorySaver\n",
    "from langchain_core.messages import AnyMessage\n",
    "from langgraph.graph.message import add_messages\n",
    "from typing import Annotated, Optional\n",
    "from typing_extensions import TypedDict, Literal\n",
    "from pydantic import BaseModel, Field\n",
    "from langgraph.prebuilt import create_react_agent\n",
    "from IPython.display import Image, display\n",
    "from langchain_core.messages import SystemMessage\n",
    "from langchain_community.tools.sql_database.tool import (\n",
    "    InfoSQLDatabaseTool,\n",
    "    ListSQLDatabaseTool,\n",
    "    QuerySQLCheckerTool,\n",
    "    QuerySQLDatabaseTool,\n",
    ")\n",
    "from langgraph.prebuilt import create_react_agent\n",
    "from decouple import config\n",
    "from langchain_core.prompts import PromptTemplate, ChatPromptTemplate\n",
    "from langchain_cohere.sql_agent.agent import create_sql_agent\n",
    "from langchain_community.agent_toolkits import SQLDatabaseToolkit\n",
    "from langchain_core.output_parsers.string import StrOutputParser"
   ]
  },
  {
   "cell_type": "code",
   "execution_count": 2,
   "id": "37894656-d4dd-4386-91a1-e184e1143b7e",
   "metadata": {},
   "outputs": [
    {
     "data": {
      "text/plain": [
       "True"
      ]
     },
     "execution_count": 2,
     "metadata": {},
     "output_type": "execute_result"
    }
   ],
   "source": [
    "load_dotenv(find_dotenv())"
   ]
  },
  {
   "cell_type": "markdown",
   "id": "ceb466ae-12e0-4eb9-9cf8-73a44e3b0bc7",
   "metadata": {},
   "source": [
    "# Database"
   ]
  },
  {
   "cell_type": "code",
   "execution_count": 3,
   "id": "086194e5-4883-44e5-9357-f40c88bc876f",
   "metadata": {},
   "outputs": [
    {
     "name": "stderr",
     "output_type": "stream",
     "text": [
      "/home/data4i0/Dev/sch-rag-01/.venv/lib/python3.12/site-packages/langchain_community/utilities/sql_database.py:123: SAWarning: Did not recognize type 'vector' of column 'embedding'\n",
      "  self._metadata.reflect(\n"
     ]
    },
    {
     "name": "stdout",
     "output_type": "stream",
     "text": [
      "postgresql\n",
      "['account_emailaddress', 'account_emailconfirmation', 'auth_group', 'auth_group_permissions', 'auth_permission', 'authentication_user', 'authentication_user_groups', 'authentication_user_user_permissions', 'authtoken_token', 'chats_chatgroupmessages', 'chats_chatmessages', 'chats_chatrooms', 'chats_groupchatrooms', 'chats_groupchatrooms_admin', 'chats_groupchatrooms_members', 'community_commnunitymessagecomments', 'community_commnunitymessagecomments_likes', 'community_community', 'community_community_members', 'community_communitycategory', 'community_communitymessages', 'community_communitymessages_likes', 'community_partner_communitypartner', 'community_partner_communitypartnerdemorequest', 'community_partner_communitypartnerinterventionmember', 'community_partner_communitypartnerquote', 'community_partner_communitypartnerrole', 'community_partner_communitypartnerschool', 'community_partner_communitypartnerstudentinterventionlog', 'community_partner_communitypartnerstudentinterventionlog_in5f25', 'community_partner_communitypartneruser', 'django_admin_log', 'django_content_type', 'django_migrations', 'django_session', 'embedchain_store', 'event_calendar_baseevent', 'event_calendar_calendarevent', 'event_calendar_calendarevent_organization_users', 'event_calendar_schoolspecialcalendar', 'notes_interventioncategory', 'notes_notes', 'notes_notes_organization_users', 'notes_notescomments', 'notifications_device', 'notifications_notification', 'notifications_notificationsettings', 'notifications_superadminnotificationsettings', 'organization_collaborationrequest', 'organization_organization', 'organization_organizationinvitation', 'organization_organizationinvitation_roles', 'organization_organizationrole', 'organization_organizationschool', 'organization_organizationschoolattendancerecord', 'organization_organizationschoolstudent', 'organization_organizationstudent', 'organization_organizationuser', 'organization_organizationuser_roles', 'organization_program', 'organization_program_program_members', 'organization_programattendance', 'organization_programenrollment', 'organization_programsite', 'permissions_permission', 'positive_notes_positivenotes', 'roles_role', 'roles_userrole', 'school_district_schooldistrict', 'school_district_schooldistrictinterventionmember', 'school_district_schooldistrictrole', 'school_district_schooldistrictschool', 'school_district_schooldistrictstudentinterventionlog', 'school_district_schooldistrictstudentinterventionlog_interv212e', 'school_district_schooldistrictuser', 'school_school', 'school_schoolinterventionmember', 'school_schoolrole', 'school_schoolstudent', 'school_schoolstudentinterventionlog', 'school_schoolstudentinterventionlog_intervention_members', 'school_schooluser', 'sis_integrations_sisintegrationservices', 'socialaccount_socialaccount', 'socialaccount_socialapp', 'socialaccount_socialtoken', 'sponsor_sponsor', 'subscriptions_invoice', 'subscriptions_payment', 'subscriptions_subscription', 'super_admin_challenge', 'super_admin_challengeparticipant', 'super_admin_quiz', 'super_admin_quizparticipant', 'super_admin_reward', 'super_admin_survey', 'super_admin_surveyparticipant', 'super_admin_winnersticker', 'training_training', 'training_trainingquestion', 'training_usertrainingquestion', 'wiz_e_wize', 'wizpulse_aggregatedstudentattendance', 'wizpulse_attendance', 'wizpulse_otherparent', 'wizpulse_parent', 'wizpulse_parentstudent', 'wizpulse_parentuser', 'wizpulse_predictedstudentattendance', 'wizpulse_programattendanceanalytics', 'wizpulse_student', 'wizpulse_studentattendance', 'wizpulse_studentattendanceanalytics']\n"
     ]
    }
   ],
   "source": [
    "from langchain_community.utilities import SQLDatabase\n",
    "\n",
    "DB_URL=config(\"DB_URL\")\n",
    "db = SQLDatabase.from_uri(DB_URL)\n",
    "print(db.dialect)\n",
    "print(db.get_usable_table_names())"
   ]
  },
  {
   "cell_type": "markdown",
   "id": "7b2fc923-7faf-4a35-8fe3-e40b0e38ac54",
   "metadata": {},
   "source": [
    "# Schemas"
   ]
  },
  {
   "cell_type": "code",
   "execution_count": 4,
   "id": "0eca21e4-a4e7-4e1b-86af-fe5a170d7026",
   "metadata": {},
   "outputs": [],
   "source": [
    "class PermissionSchema(BaseModel):\n",
    "    \"\"\"\n",
    "    Schema for determining whether a user input is permitted.\n",
    "    \n",
    "    Attributes:\n",
    "        permitted (bool): Indicates whether the input is allowed. \n",
    "                          - True: The input is permitted.\n",
    "                          - False: The input is not permitted.\n",
    "    \"\"\"\n",
    "    permitted: Literal[True, False] = Field(False, descripiton = \"Indicates whether the user input is allowed.\")\n",
    "\n",
    "class CheckRelevance(BaseModel):\n",
    "    relevance: str = Field(\n",
    "        description=\"Indicates whether the question is related to the database schema. 'relevant' or 'not_relevant'.\"\n",
    "    )\n",
    "\n",
    "class QueryFormulationSchema(BaseModel):\n",
    "    \"\"\"\n",
    "    Schema for generating an SQL query that retrieves the answer to a user input.\n",
    "    \n",
    "    Attributes:\n",
    "        sql_query (str): The SQL query formulated based on the user's request. \n",
    "                         - This query should be executable on the target database.\n",
    "                         - It should be structured to return the relevant data answering the user's input.\n",
    "                         - If the query cannot be formulated, this field may be None.\n",
    "    \"\"\"\n",
    "    sql_query: Optional[str] = Field(None, description = \"The generated SQL query that corresponds to the user's input.\")\n",
    "\n",
    "class QueryAnswerSchema(BaseModel):\n",
    "    \"\"\"\n",
    "    Schema for generating an answer based on the user's input and the retrieved database results.\n",
    "\n",
    "    Attributes:\n",
    "        answer (str): The final response generated using the user's input and the query results.\n",
    "                      - This answer should be meaningful and relevant to the user's request.\n",
    "                      - If no relevant data is found, this field may contain an appropriate message.\n",
    "    \"\"\"\n",
    "    answer: str = Field(description=\"The response generated from the database query and the user's input.\")"
   ]
  },
  {
   "cell_type": "markdown",
   "id": "c633a9dd-f863-49ce-8ff6-49a49954fd8d",
   "metadata": {},
   "source": [
    "# Models"
   ]
  },
  {
   "cell_type": "code",
   "execution_count": 5,
   "id": "21a555e4-7df8-4461-bab6-fb3e8cd0330f",
   "metadata": {},
   "outputs": [],
   "source": [
    "llm = ChatTogether(\n",
    "    model=\"meta-llama/Llama-3.3-70b-Instruct-Turbo\",\n",
    "    temperature=0,\n",
    "    max_tokens=None,\n",
    "    timeout=None,\n",
    "    max_retries=2,\n",
    ")"
   ]
  },
  {
   "cell_type": "markdown",
   "id": "79405850-5a9a-41b9-920a-2efba73856fc",
   "metadata": {},
   "source": [
    "# Structured Models"
   ]
  },
  {
   "cell_type": "code",
   "execution_count": 6,
   "id": "edcc10a8-5093-41a0-809a-b326d55eddc9",
   "metadata": {},
   "outputs": [],
   "source": [
    "permission_llm = llm.with_structured_output(PermissionSchema)"
   ]
  },
  {
   "cell_type": "code",
   "execution_count": 7,
   "id": "3a5b6d3d-1304-43fa-8a27-fb87c5e9e197",
   "metadata": {},
   "outputs": [],
   "source": [
    "verification_llm = llm.with_structured_output(CheckRelevance)"
   ]
  },
  {
   "cell_type": "code",
   "execution_count": 8,
   "id": "3e5c359b-147e-4d1a-a79a-e6b4e0a0e535",
   "metadata": {},
   "outputs": [],
   "source": [
    "qf_llm = llm.with_structured_output(QueryFormulationSchema)"
   ]
  },
  {
   "cell_type": "code",
   "execution_count": 9,
   "id": "bf14f6fe-e11b-4845-b53d-2b83d54629f0",
   "metadata": {},
   "outputs": [],
   "source": [
    "qa_llm = llm.with_structured_output(QueryAnswerSchema)"
   ]
  },
  {
   "cell_type": "code",
   "execution_count": 10,
   "id": "0aa7e5cb-ba47-42b6-8aa9-6c3c4fe91525",
   "metadata": {},
   "outputs": [
    {
     "data": {
      "text/plain": [
       "ChatTogether(client=<openai.resources.chat.completions.completions.Completions object at 0x77c7e6c131d0>, async_client=<openai.resources.chat.completions.completions.AsyncCompletions object at 0x77c7e78a4080>, model_name='meta-llama/Llama-3.3-70b-Instruct-Turbo', temperature=0.0, model_kwargs={}, openai_api_key=SecretStr('**********'), max_retries=2, together_api_key=SecretStr('**********'), together_api_base='https://api.together.xyz/v1/')"
      ]
     },
     "execution_count": 10,
     "metadata": {},
     "output_type": "execute_result"
    }
   ],
   "source": [
    "llm"
   ]
  },
  {
   "cell_type": "code",
   "execution_count": 11,
   "id": "f9613509-b415-4b48-ba08-48f45dfb53f1",
   "metadata": {},
   "outputs": [
    {
     "data": {
      "text/plain": [
       "RunnableBinding(bound=ChatTogether(client=<openai.resources.chat.completions.completions.Completions object at 0x77c7e6c131d0>, async_client=<openai.resources.chat.completions.completions.AsyncCompletions object at 0x77c7e78a4080>, model_name='meta-llama/Llama-3.3-70b-Instruct-Turbo', temperature=0.0, model_kwargs={}, openai_api_key=SecretStr('**********'), max_retries=2, together_api_key=SecretStr('**********'), together_api_base='https://api.together.xyz/v1/'), kwargs={'tools': [{'type': 'function', 'function': {'name': 'CheckRelevance', 'description': '', 'parameters': {'properties': {'relevance': {'description': \"Indicates whether the question is related to the database schema. 'relevant' or 'not_relevant'.\", 'type': 'string'}}, 'required': ['relevance'], 'type': 'object'}}}], 'ls_structured_output_format': {'kwargs': {'method': 'function_calling'}, 'schema': <class '__main__.CheckRelevance'>}, 'parallel_tool_calls': False, 'tool_choice': {'type': 'function', 'function': {'name': 'CheckRelevance'}}}, config={}, config_factories=[])\n",
       "| PydanticToolsParser(first_tool_only=True, tools=[<class '__main__.CheckRelevance'>])"
      ]
     },
     "execution_count": 11,
     "metadata": {},
     "output_type": "execute_result"
    }
   ],
   "source": [
    "verification_llm"
   ]
  },
  {
   "cell_type": "markdown",
   "id": "21e50b3c-d755-4c80-9ba1-7883491cce69",
   "metadata": {},
   "source": [
    "# Tools"
   ]
  },
  {
   "cell_type": "code",
   "execution_count": 12,
   "id": "18824c95-4b88-4d78-8535-2e0a984c9ccd",
   "metadata": {},
   "outputs": [],
   "source": [
    "list_sql_database_tool = ListSQLDatabaseTool(db=db)\n",
    "info_sql_database_tool_description = (\n",
    "    \"Input to this tool is a comma-separated list of tables, output is the \"\n",
    "    \"schema and sample rows for those tables. \"\n",
    "    \"Be sure that the tables actually exist by calling \"\n",
    "    f\"{list_sql_database_tool.name} first! \"\n",
    "    \"Example Input: table1, table2, table3\"\n",
    ")\n",
    "info_sql_database_tool = InfoSQLDatabaseTool(\n",
    "    db=db, description=info_sql_database_tool_description\n",
    ")\n",
    "query_sql_database_tool_description = (\n",
    "    \"Input to this tool is a detailed and correct SQL query, output is a \"\n",
    "    \"result from the database. If the query is not correct, an error message \"\n",
    "    \"will be returned. If an error is returned, rewrite the query, check the \"\n",
    "    \"query, and try again. If you encounter an issue with Unknown column \"\n",
    "    f\"'xxxx' in 'field list', use {info_sql_database_tool.name} \"\n",
    "    \"to query the correct table fields.\"\n",
    ")\n",
    "query_sql_database_tool = QuerySQLDatabaseTool(\n",
    "    db=db, description=query_sql_database_tool_description\n",
    ")\n",
    "query_sql_checker_tool_description = (\n",
    "    \"Use this tool to double check if your query is correct before executing \"\n",
    "    \"it. Always use this tool before executing a query with \"\n",
    "    f\"{query_sql_database_tool.name}!\"\n",
    ")\n",
    "query_sql_checker_tool = QuerySQLCheckerTool(\n",
    "    db=db, llm=llm, description=query_sql_checker_tool_description\n",
    ")"
   ]
  },
  {
   "cell_type": "code",
   "execution_count": 13,
   "id": "6ae3f943-95ef-466f-95ef-d1c2042e4de3",
   "metadata": {},
   "outputs": [],
   "source": [
    "permission_tools = [info_sql_database_tool, list_sql_database_tool]\n",
    "relevance_tools = [info_sql_database_tool, list_sql_database_tool]\n",
    "qf_tools = [info_sql_database_tool, list_sql_database_tool, query_sql_checker_tool]"
   ]
  },
  {
   "cell_type": "markdown",
   "id": "da6cfe74-506c-4924-9833-fa193925a1df",
   "metadata": {},
   "source": [
    "# State"
   ]
  },
  {
   "cell_type": "code",
   "execution_count": 14,
   "id": "6efe8dd7-8339-4ef6-885e-535cc2cc3072",
   "metadata": {},
   "outputs": [],
   "source": [
    "class InputState(TypedDict):\n",
    "    question: str"
   ]
  },
  {
   "cell_type": "code",
   "execution_count": 15,
   "id": "c8853719-eebd-4c90-be6e-4ad7be77b90d",
   "metadata": {},
   "outputs": [],
   "source": [
    "class OutputState(TypedDict):\n",
    "    answer: str"
   ]
  },
  {
   "cell_type": "code",
   "execution_count": 16,
   "id": "80b06a78-9e61-4d49-8e56-d3d9a9c8459f",
   "metadata": {},
   "outputs": [],
   "source": [
    "class State(TypedDict):\n",
    "    messages: Annotated[list[AnyMessage], add_messages]\n",
    "    question: str\n",
    "    permitted: bool\n",
    "    relevant: bool\n",
    "    decision: str\n",
    "    sql_query: str\n",
    "    sql_error: str\n",
    "    raw_answer: str\n",
    "    answer: str"
   ]
  },
  {
   "cell_type": "markdown",
   "id": "89cbea62-f572-401d-b2f8-a61561f788ed",
   "metadata": {},
   "source": [
    "# Nodes"
   ]
  },
  {
   "cell_type": "code",
   "execution_count": 17,
   "id": "880eefd6-a8da-4c38-a803-08d38eb5fcc6",
   "metadata": {},
   "outputs": [],
   "source": [
    "question = \"Names of students in lincoln school?\""
   ]
  },
  {
   "cell_type": "code",
   "execution_count": 152,
   "id": "cc18d931-46f4-4406-b20e-2460bb7949fa",
   "metadata": {},
   "outputs": [],
   "source": [
    "async def query_permission_node(state: InputState) -> State:\n",
    "    return {\"permitted\": True}"
   ]
  },
  {
   "cell_type": "code",
   "execution_count": 153,
   "id": "25252afb-8196-4173-8a95-1029f998a09c",
   "metadata": {},
   "outputs": [],
   "source": [
    "async def query_relevant_node(state: State):\n",
    "    system = \"\"\"You are an assistant that determines whether a given question is related to the following {dialect} database schema.\n",
    "    Get the table names that are related to the question from the tool ListSQLDatabaseTool\n",
    "    Then get the schema for the table names from the tool InfoSQLDatabaseTool\n",
    "    \n",
    "    Respond with only \"relevant\" or \"not_relevant\".\n",
    "    \"\"\"\n",
    "    prompt_template = PromptTemplate.from_template(system)\n",
    "    relevance_system_message = prompt_template.format(dialect=db.dialect)\n",
    "    agent = create_react_agent(llm, relevance_tools, prompt=SystemMessage(relevance_system_message))\n",
    "    is_relevant_invoke = agent.invoke(\n",
    "        {\"messages\": [{\"role\": \"user\", \"content\": state['question']}]},\n",
    "    )\n",
    "    print(is_relevant_invoke['messages'][-1].content)\n",
    "    if is_relevant_invoke['messages'][-1].content == \"relevant\":\n",
    "        return {\"relevant\": True} \n",
    "    return {\"relevant\": False}"
   ]
  },
  {
   "cell_type": "code",
   "execution_count": 154,
   "id": "e6a4466b-ed34-4002-8f06-52abdf1debbd",
   "metadata": {},
   "outputs": [],
   "source": [
    "async def query_decision_node(state: State):\n",
    "    \"\"\"A decision node to decide if a user input is permitted or not.\"\"\"\n",
    "    print(state['permitted'])\n",
    "    print(state['relevant'])\n",
    "    decision = state['permitted'] and state['relevant']\n",
    "    print(decision)\n",
    "    if decision:\n",
    "        return {\"decision\": \"input permitted\"}\n",
    "    return {\"decision\": \"input not permitted\"}"
   ]
  },
  {
   "cell_type": "code",
   "execution_count": 176,
   "id": "c38972f0-5088-4e59-b083-4b791f6a3ec7",
   "metadata": {},
   "outputs": [],
   "source": [
    "async def sql_query_formulation_node(state: State):\n",
    "    if state.get(\"sql_error\"):\n",
    "        system = \"\"\"You are an assistant that converts natural language questions into SQL queries based on the following schema:\n",
    "        Get the table names that are related to the question from the tool ListSQLDatabaseTool\n",
    "        Then get the schema for the table names from the tool InfoSQLDatabaseTool\n",
    "        \n",
    "        Provide only the {dialect} SQL query without any explanations. Alias columns appropriately to match the expected keys in the result.\n",
    "        \n",
    "        For example, alias 'food.name' as 'food_name' and 'food.price' as 'price'.\n",
    "\n",
    "        If it asks for a list only return the first 5\n",
    "\n",
    "        You had a previous SQL error: {sql_error}, for this query: {sql_query}, ensure the new query corrects the issue.\n",
    "        \"\"\"\n",
    "        \n",
    "        prompt_template = PromptTemplate.from_template(system)\n",
    "        qf_system_message = prompt_template.format(dialect=db, sql_error = state.get(\"sql_error\"), sql_query=state.get(\"sql_query\"))\n",
    "        agent = create_react_agent(llm, relevance_tools, prompt=SystemMessage(qf_system_message), response_format=QueryFormulationSchema)\n",
    "        qf_invoke = agent.invoke(\n",
    "            {\"messages\": [{\"role\": \"user\", \"content\": state['question']}]},\n",
    "        )\n",
    "    else:\n",
    "        system = \"\"\"You are an assistant that converts natural language questions into SQL queries based on the following schema:\n",
    "        Get the table names that are related to the question from the tool ListSQLDatabaseTool\n",
    "        Then get the schema for the table names from the tool InfoSQLDatabaseTool\n",
    "        \n",
    "        Provide only the {dialect} SQL query without any explanations. Alias columns appropriately to match the expected keys in the result.\n",
    "        \n",
    "        For example, alias 'food.name' as 'food_name' and 'food.price' as 'price'.\n",
    "\n",
    "        If it asks for a list only return the first 5\n",
    "        \"\"\"\n",
    "        \n",
    "        prompt_template = PromptTemplate.from_template(system)\n",
    "        qf_system_message = prompt_template.format(dialect=db)\n",
    "        agent = create_react_agent(llm, relevance_tools, prompt=SystemMessage(qf_system_message), response_format=QueryFormulationSchema)\n",
    "        qf_invoke = agent.invoke(\n",
    "            {\"messages\": [{\"role\": \"user\", \"content\": state['question']}]},\n",
    "        )\n",
    "        \n",
    "    return {\"sql_query\": qf_invoke[\"messages\"][-1].content}"
   ]
  },
  {
   "cell_type": "code",
   "execution_count": 190,
   "id": "563a6d4b-c387-44d6-a8a0-e9b4fd396477",
   "metadata": {},
   "outputs": [],
   "source": [
    "async def sql_query_node(state: State):\n",
    "    try:\n",
    "        print(state['sql_query'])\n",
    "        answer = db.run(state['sql_query'])\n",
    "        print(answer)\n",
    "        return {\"raw_answer\": answer, \"sql_error\": \"\"}  # Clear previous errors if successful\n",
    "    except Exception as e:\n",
    "        return {\"sql_error\": str(e)}"
   ]
  },
  {
   "cell_type": "code",
   "execution_count": 191,
   "id": "f126575f-555e-47b3-95b3-4348ab35fbb8",
   "metadata": {},
   "outputs": [],
   "source": [
    "async def route_sql_error(state: State):\n",
    "    if state.get(\"sql_error\"):\n",
    "        return \"sql_query_formulation_node\"  # Retry query formulation if there's an error\n",
    "    return \"query_answer_node\""
   ]
  },
  {
   "cell_type": "code",
   "execution_count": 192,
   "id": "8f9a08ac-ed60-43af-b99e-c69852eae89d",
   "metadata": {},
   "outputs": [],
   "source": [
    "async def query_answer_node(state: State) -> OutputState:\n",
    "    prompt = \"\"\"\n",
    "    You are an assistant that converts answers from an sql query to a natural language answer while also using the user question:\n",
    "    The question is {question}\n",
    "    The sql answer is {answer}\n",
    "\n",
    "    Reply with only a natural language answer for the user in a friendly manner.\n",
    "    \"\"\"\n",
    "    prompt_template = PromptTemplate.from_template(prompt)\n",
    "    chain = prompt_template | llm | StrOutputParser()\n",
    "    answer = chain.invoke({\n",
    "        \"question\": state['question'],\n",
    "        \"answer\": state[\"raw_answer\"]\n",
    "    })\n",
    "\n",
    "    print(answer)\n",
    "    return {\"answer\": answer}"
   ]
  },
  {
   "cell_type": "code",
   "execution_count": 193,
   "id": "915201bc-3a69-49d5-a445-08d000b05e28",
   "metadata": {},
   "outputs": [],
   "source": [
    "async def route_decision(state: State):\n",
    "    print(state['decision'])\n",
    "    if state['decision'] == \"input permitted\":\n",
    "        return \"sql_query_formulation_node\"\n",
    "    else:\n",
    "        return \"end\""
   ]
  },
  {
   "cell_type": "code",
   "execution_count": 194,
   "id": "a8d4f896-6171-47bd-b1fa-0dce29a20833",
   "metadata": {},
   "outputs": [],
   "source": [
    "async def update_output(state: State):\n",
    "    return {\"output\": \"Your question is not relevant or not permitted.\"}"
   ]
  },
  {
   "cell_type": "markdown",
   "id": "b5125fef-bcfe-49d0-858c-0bb047a0c038",
   "metadata": {},
   "source": [
    "# Graph"
   ]
  },
  {
   "cell_type": "code",
   "execution_count": 195,
   "id": "9941160d-d94c-4e72-95de-45fac86f1b48",
   "metadata": {},
   "outputs": [],
   "source": [
    "workflow = StateGraph(State, input=InputState, output=OutputState)"
   ]
  },
  {
   "cell_type": "code",
   "execution_count": 196,
   "id": "996c5176-e8d4-4505-8152-8a5b68f7e43e",
   "metadata": {},
   "outputs": [
    {
     "data": {
      "text/plain": [
       "<langgraph.graph.state.StateGraph at 0x77c7ce485280>"
      ]
     },
     "execution_count": 196,
     "metadata": {},
     "output_type": "execute_result"
    }
   ],
   "source": [
    "workflow.add_node(\"query_permission_node\", query_permission_node)\n",
    "workflow.add_node(\"query_relevant_node\", query_relevant_node)\n",
    "workflow.add_node(\"query_decision_node\", query_decision_node)\n",
    "workflow.add_node(\"sql_query_formulation_node\", sql_query_formulation_node)\n",
    "workflow.add_node(\"sql_query_node\", sql_query_node)\n",
    "workflow.add_node(\"query_answer_node\", query_answer_node)\n",
    "workflow.add_node(\"update_output\", update_output)"
   ]
  },
  {
   "cell_type": "code",
   "execution_count": 197,
   "id": "fc006371-bc39-413f-a76d-92cb5dccdac5",
   "metadata": {},
   "outputs": [
    {
     "data": {
      "text/plain": [
       "<langgraph.graph.state.StateGraph at 0x77c7ce485280>"
      ]
     },
     "execution_count": 197,
     "metadata": {},
     "output_type": "execute_result"
    }
   ],
   "source": [
    "workflow.add_edge(START, \"query_permission_node\")\n",
    "workflow.add_edge(START, \"query_relevant_node\")\n",
    "workflow.add_edge(\"query_permission_node\", \"query_decision_node\")\n",
    "workflow.add_edge(\"query_relevant_node\", \"query_decision_node\")\n",
    "workflow.add_conditional_edges(\n",
    "    \"query_decision_node\", \n",
    "    route_decision, \n",
    "    {\n",
    "        \"sql_query_formulation_node\": \"sql_query_formulation_node\",\n",
    "        \"end\": \"update_output\"\n",
    "    }\n",
    ")\n",
    "workflow.add_edge(\"sql_query_formulation_node\", \"sql_query_node\")\n",
    "workflow.add_conditional_edges(\n",
    "    \"sql_query_node\", \n",
    "    route_sql_error, \n",
    "    {\n",
    "        \"sql_query_formulation_node\": \"sql_query_formulation_node\",  # Retry on error\n",
    "        \"query_answer_node\": \"query_answer_node\"  # Proceed if successful\n",
    "    }\n",
    ")\n",
    "workflow.add_edge(\"update_output\", END)\n",
    "workflow.add_edge(\"query_answer_node\", END)"
   ]
  },
  {
   "cell_type": "code",
   "execution_count": 198,
   "id": "ec5e07d8-6040-49fb-8b98-ed9d59162662",
   "metadata": {},
   "outputs": [],
   "source": [
    "checkpoint = MemorySaver()"
   ]
  },
  {
   "cell_type": "code",
   "execution_count": 199,
   "id": "702d88b1-722f-46e2-bd44-9179e497880c",
   "metadata": {},
   "outputs": [],
   "source": [
    "graph = workflow.compile(checkpointer=checkpoint)"
   ]
  },
  {
   "cell_type": "code",
   "execution_count": 200,
   "id": "dac10b34-0f02-4f32-a123-544624229c0c",
   "metadata": {},
   "outputs": [
    {
     "data": {
      "image/png": "[encoded data removed]",
      "text/plain": [
       "<IPython.core.display.Image object>"
      ]
     },
     "metadata": {},
     "output_type": "display_data"
    }
   ],
   "source": [
    "display(Image(graph.get_graph().draw_mermaid_png()))"
   ]
  },
  {
   "cell_type": "code",
   "execution_count": 203,
   "id": "be8e0aee-6f42-4ddd-8d73-540e65a1c1ca",
   "metadata": {},
   "outputs": [
    {
     "name": "stdout",
     "output_type": "stream",
     "text": [
      "relevant\n",
      "True\n",
      "True\n",
      "True\n",
      "input permitted\n",
      "SELECT T1.student_unique_id AS student_name FROM school_schoolstudent AS T1 INNER JOIN school_school AS T2 ON T1.school_id = T2.id WHERE T2.name = 'Dawson High' LIMIT 5\n",
      "[('S001',), ('S002',), ('S003',), ('S004',), ('S005',)]\n",
      "The students in Dawson High are S001, S002, S003, S004, and S005.\n"
     ]
    }
   ],
   "source": [
    "answer = await graph.ainvoke(input={\"question\": \"Give me the student names in Dawson High\"}, config={\"thread_id\": \"123\"})"
   ]
  },
  {
   "cell_type": "code",
   "execution_count": 204,
   "id": "4968d87e-5d3a-462e-bbd3-cc6af8fe9dba",
   "metadata": {},
   "outputs": [
    {
     "name": "stdout",
     "output_type": "stream",
     "text": [
      "The students in Dawson High are S001, S002, S003, S004, and S005.\n"
     ]
    }
   ],
   "source": [
    "print(answer['answer'])"
   ]
  },
  {
   "cell_type": "code",
   "execution_count": null,
   "id": "a8923345-6f86-4037-81d2-563d1ef47897",
   "metadata": {},
   "outputs": [],
   "source": []
  }
 ],
 "metadata": {
  "kernelspec": {
   "display_name": "Python 3 (ipykernel)",
   "language": "python",
   "name": "python3"
  },
  "language_info": {
   "codemirror_mode": {
    "name": "ipython",
    "version": 3
   },
   "file_extension": ".py",
   "mimetype": "text/x-python",
   "name": "python",
   "nbconvert_exporter": "python",
   "pygments_lexer": "ipython3",
   "version": "3.12.3"
  }
 },
 "nbformat": 4,
 "nbformat_minor": 5
}
